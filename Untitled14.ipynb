{
  "nbformat": 4,
  "nbformat_minor": 0,
  "metadata": {
    "colab": {
      "name": "Untitled14.ipynb",
      "provenance": [],
      "authorship_tag": "ABX9TyP8RqxzgN+uNBKlyePi228c",
      "include_colab_link": true
    },
    "kernelspec": {
      "name": "python3",
      "display_name": "Python 3"
    },
    "language_info": {
      "name": "python"
    }
  },
  "cells": [
    {
      "cell_type": "markdown",
      "metadata": {
        "id": "view-in-github",
        "colab_type": "text"
      },
      "source": [
        "<a href=\"https://colab.research.google.com/github/Ixchelrs01/01_04_EjercicioAngulo/blob/main/Untitled14.ipynb\" target=\"_parent\"><img src=\"https://colab.research.google.com/assets/colab-badge.svg\" alt=\"Open In Colab\"/></a>"
      ]
    },
    {
      "cell_type": "code",
      "metadata": {
        "colab": {
          "base_uri": "https://localhost:8080/"
        },
        "id": "CRh2aWBS6Fn0",
        "outputId": "da278749-f1dc-4021-ee31-29a316645c41"
      },
      "source": [
        "#Programa que calcula la integral numerica\n",
        "#Autor: Ixchel Ramirez Solano\n",
        "#20210915 creación del programa\n",
        "\n",
        "#librerias\n",
        "import matplotlib.pyplot as plt\n",
        "import numpy as np\n",
        "import math\n",
        "\n",
        "def f(t):\n",
        "    return 2*t\n",
        "\n",
        "def fintegral(t):\n",
        "    return  t**2\n",
        "\n",
        "\n",
        "print(\"¿Desde que punto quieres calcular la integral?\")\n",
        "punto_inicial=float(input(\"\"))\n",
        "print(\"¿Hasta que punto quieres calcular la integral?\")\n",
        "punto_final=float(input(\"\"))\n",
        "print(\"¿Cuántos segmentos quieres usar?\")\n",
        "segmentos=float(input(\"\"))\n",
        "\n",
        "\n",
        "anchodedivision=(punto_final-punto_inicial)/segmentos\n",
        "t=np.arange(punto_inicial,punto_final,anchodedivision)\n",
        "integralaaproximada=0\n",
        "\n",
        "for i in t:\n",
        "  integralaaproximada+= f(i+anchodedivision/2)*anchodedivision\n",
        "\n",
        "\n",
        "#print(\"El valor de la integral numerica (primera aproximacion) de la funcion es:\",integralmuyaproximada)\n",
        "#print(\"El valor de la integral numerica exacta de la funcion es:\",integralexacta)\n",
        "print(\"El valor de la integral numerica con de la funcion es:\",integralaaproximada)\n",
        "print(\"El valor de la integral exacta es:\",fintegral(punto_final)-fintegral(punto_inicial))\n",
        "\n",
        "\n"
      ],
      "execution_count": 4,
      "outputs": [
        {
          "output_type": "stream",
          "name": "stdout",
          "text": [
            "¿Desde que punto quieres calcular la integral?\n",
            "0\n",
            "¿Hasta que punto quieres calcular la integral?\n",
            "5\n",
            "¿Cuántos segmentos quieres usar?\n",
            "10\n",
            "El valor de la integral numerica con de la funcion es: 25.0\n",
            "El valor de la integral exacta es: 25.0\n"
          ]
        }
      ]
    }
  ]
}