{
  "nbformat": 4,
  "nbformat_minor": 0,
  "metadata": {
    "colab": {
      "name": "Untitled12.ipynb",
      "provenance": [],
      "authorship_tag": "ABX9TyNodx0lPPefReSGSCzc+7R9",
      "include_colab_link": true
    },
    "kernelspec": {
      "name": "python3",
      "display_name": "Python 3"
    },
    "language_info": {
      "name": "python"
    }
  },
  "cells": [
    {
      "cell_type": "markdown",
      "metadata": {
        "id": "view-in-github",
        "colab_type": "text"
      },
      "source": [
        "<a href=\"https://colab.research.google.com/github/Ixchelrs01/01_04_EjercicioAngulo/blob/main/Calculo%20de%20integral%20%20copia-1.ipynb\" target=\"_parent\"><img src=\"https://colab.research.google.com/assets/colab-badge.svg\" alt=\"Open In Colab\"/></a>"
      ]
    },
    {
      "cell_type": "code",
      "metadata": {
        "colab": {
          "base_uri": "https://localhost:8080/",
          "height": 435
        },
        "id": "PCiSRRtfx-Aq",
        "outputId": "05223edc-ab8b-4fa7-873f-5dbf5990e590"
      },
      "source": [
        "#Programa que calcula la integral numerica\n",
        "#Autor: Ixchel Ramirez Solano\n",
        "#20210908 creación del programa\n",
        "\n",
        "#librerias\n",
        "import matplotlib.pyplot as plt\n",
        "import numpy as np\n",
        "import math\n",
        "def fprima(A,P,t):\n",
        "    return A*(2*np.pi/P)*np.cos((2*np.pi/P)*t)\n",
        "\n",
        "def f(A,P,t):\n",
        "    return A*np.sin((2*np.pi/P)*t)\n",
        "\n",
        "#lectura de variables\n",
        "print(\"¿Cuál es la amplitud del oscilador?\")\n",
        "amplitud=float(input(\"\"))\n",
        "print(\"¿Cuál es el periodo del oscilador en segundos?\")\n",
        "periodo=float(input(\"\"))\n",
        "print(\"¿Desde que punto quieres calcular la integral?\")\n",
        "tiempo_inicial=float(input(\"\"))\n",
        "print(\"¿asta que punto quieres calcular la integral?\")\n",
        "tiempo_final=float(input(\"\"))\n",
        "\n",
        "#debugin\n",
        "t1=np.arange(tiempo_inicial,tiempo_final,0.001)\n",
        "plt.plot(t1,fprima(amplitud,periodo,t1))\n",
        "plt.plot(t1,f(amplitud,periodo,t1))\n",
        "plt.show()\n",
        "\n",
        "#Calculo de variables\n",
        "puntomedio=tiempo_inicial+(tiempo_final-tiempo_inicial)/2\n",
        "\n",
        "#Evaluar la integral numerica\n",
        "integralmuyaproximada=fprima(amplitud,periodo,puntomedio)*(tiempo_final-tiempo_inicial)\n",
        "integralexacta=f(amplitud,periodo,tiempo_final)-f(amplitud,periodo,tiempo_inicial)\n",
        "\n",
        "print(\"El valor de la integral numerica (primera aproximacion) de la funcion es:\",integralmuyaproximada)\n",
        "print(\"El valor de la integral numerica exacta de la funcion es:\",integralexacta)"
      ],
      "execution_count": null,
      "outputs": [
        {
          "name": "stdout",
          "output_type": "stream",
          "text": [
            "¿Cuál es la amplitud del oscilador?\n",
            "5\n",
            "¿Cuál es el periodo del oscilador en segundos?\n",
            "2\n",
            "¿Desde que punto quieres calcular la integral?\n",
            "0\n",
            "¿asta que punto quieres calcular la integral?\n",
            "0.1\n"
          ]
        },
        {
          "output_type": "display_data",
          "data": {
            "image/png": "[encoded data removed]",
            "text/plain": [
              "<Figure size 432x288 with 1 Axes>"
            ]
          },
          "metadata": {
            "needs_background": "light"
          }
        },
        {
          "output_type": "stream",
          "name": "stdout",
          "text": [
            "El valor de la integral numerica (primera aproximacion) de la funcion es: 1.5514572174249892\n",
            "El valor de la integral numerica exacta de la funcion es: 1.545084971874737\n"
          ]
        }
      ]
    },
    {
      "cell_type": "code",
      "metadata": {
        "id": "4KOxcsPg-tvV",
        "outputId": "6e58690a-141e-4442-c3a5-2f74983b5d41",
        "colab": {
          "base_uri": "https://localhost:8080/"
        }
      },
      "source": [
        "#Programa que calcula la integral numerica\n",
        "#Autor: Ixchel Ramirez Solano\n",
        "#20210913 creación del programa\n",
        "\n",
        "#librerias\n",
        "import matplotlib.pyplot as plt\n",
        "import numpy as np\n",
        "import math\n",
        "def fprima(A,P,t):\n",
        "    return A*(2*np.pi/P)*np.cos((2*np.pi/P)*t)\n",
        "\n",
        "def f(A,P,t):\n",
        "    return A*np.sin((2*np.pi/P)*t)\n",
        "\n",
        "#lectura de variables\n",
        "print(\"¿Cuál es la amplitud del oscilador?\")\n",
        "amplitud=float(input(\"\"))\n",
        "print(\"¿Cuál es el periodo del oscilador en segundos?\")\n",
        "periodo=float(input(\"\"))\n",
        "print(\"¿Desde que punto quieres calcular la integral?\")\n",
        "tiempo_inicial=float(input(\"\"))\n",
        "print(\"¿Hasta que punto quieres calcular la integral?\")\n",
        "tiempo_final=float(input(\"\"))\n",
        "print(\"¿Cuántos segmentos quieres usar?\")\n",
        "segmentos=float(input(\"\"))\n",
        "\n",
        "\n",
        "\n",
        "#debugin\n",
        "#t1=np.arange(tiempo_inicial,tiempo_final,0.001)\n",
        "#plt.plot(t1,fprima(amplitud,periodo,t1))\n",
        "#plt.plot(t1,f(amplitud,periodo,t1))\n",
        "#plt.show()\n",
        "\n",
        "#Calculo de variables\n",
        "puntomedio=tiempo_inicial+(tiempo_final-tiempo_inicial)/2\n",
        "\n",
        "#Evaluar la integral numerica\n",
        "integralmuyaproximada=fprima(amplitud,periodo,puntomedio)*(tiempo_final-tiempo_inicial)\n",
        "integralexacta=f(amplitud,periodo,tiempo_final)-f(amplitud,periodo,tiempo_inicial)\n",
        "\n",
        "anchodedivision=(tiempo_final-tiempo_inicial)/segmentos\n",
        "t=np.arange(tiempo_inicial,tiempo_final,anchodedivision)\n",
        "integralaaproximada=0\n",
        "sum=0\n",
        "\n",
        "for i in t:\n",
        "  integralaaproximada+= fprima(amplitud,periodo,i+anchodedivision/2)*anchodedivision\n",
        "\n",
        "for i in t:\n",
        "  sum+= fprima(amplitud,periodo,i+anchodedivision/2)*anchodedivision\n",
        "\n",
        "\n",
        "print(\"El valor de la integral numerica (primera aproximacion) de la funcion es:\",integralmuyaproximada)\n",
        "print(\"El valor de la integral numerica exacta de la funcion es:\",integralexacta)\n",
        "print(\"El valor de la integral numerica con de la funcion es:\",integralaaproximada)\n",
        "print(\"El valor de la integral numerica con i de la funcion es:\",sum)\n",
        "\n"
      ],
      "execution_count": 1,
      "outputs": [
        {
          "output_type": "stream",
          "name": "stdout",
          "text": [
            "¿Cuál es la amplitud del oscilador?\n",
            "5\n",
            "¿Cuál es el periodo del oscilador en segundos?\n",
            "2\n",
            "¿Desde que punto quieres calcular la integral?\n",
            "0\n",
            "¿Hasta que punto quieres calcular la integral?\n",
            "1\n",
            "¿Cuántos segmentos quieres usar?\n",
            "10000000\n",
            "El valor de la integral numerica (primera aproximacion) de la funcion es: 9.61835346860895e-16\n",
            "El valor de la integral numerica exacta de la funcion es: 6.123233995736766e-16\n",
            "El valor de la integral numerica con de la funcion es: 4.1564309062418463e-16\n",
            "El valor de la integral numerica con i de la funcion es: 4.1564309062418463e-16\n"
          ]
        }
      ]
    },
    {
      "cell_type": "code",
      "metadata": {
        "id": "ScQ-7ekLedLR",
        "outputId": "657b52f6-e5aa-47ee-c273-84b2bc87ffc4",
        "colab": {
          "base_uri": "https://localhost:8080/",
          "height": 469
        }
      },
      "source": [
        "#Programa que calcula la integral numerica\n",
        "#Autor: Ixchel Ramirez Solano\n",
        "#20210913 creación del programa\n",
        "\n",
        "#librerias\n",
        "import matplotlib.pyplot as plt\n",
        "import numpy as np\n",
        "import math\n",
        "def fprima(A,P,t):\n",
        "    return A*(2*np.pi/P)*np.cos((2*np.pi/P)*t)\n",
        "\n",
        "def f(A,P,t):\n",
        "    return A*np.sin((2*np.pi/P)*t)\n",
        "\n",
        "#lectura de variables\n",
        "print(\"¿Cuál es la amplitud del oscilador?\")\n",
        "amplitud=float(input(\"\"))\n",
        "print(\"¿Cuál es el periodo del oscilador en segundos?\")\n",
        "periodo=float(input(\"\"))\n",
        "print(\"¿Desde que punto quieres calcular la integral?\")\n",
        "tiempo_inicial=float(input(\"\"))\n",
        "print(\"¿Hasta que punto quieres calcular la integral?\")\n",
        "tiempo_final=float(input(\"\"))\n",
        "print(\"¿Cuántos segmentos quieres usar?\")\n",
        "segmentos=float(input(\"\"))\n",
        "\n",
        "\n",
        "\n",
        "#debugin\n",
        "#t1=np.arange(tiempo_inicial,tiempo_final,0.001)\n",
        "#plt.plot(t1,fprima(amplitud,periodo,t1))\n",
        "#plt.plot(t1,f(amplitud,periodo,t1))\n",
        "#plt.show()\n",
        "\n",
        "#Calculo de variables\n",
        "puntomedio=tiempo_inicial+(tiempo_final-tiempo_inicial)/2\n",
        "\n",
        "#Evaluar la integral numerica\n",
        "integralmuyaproximada=fprima(amplitud,periodo,puntomedio)*(tiempo_final-tiempo_inicial)\n",
        "integralexacta=f(amplitud,periodo,tiempo_final)-f(amplitud,periodo,tiempo_inicial)\n",
        "\n",
        "#print(\"El valor de la integral numerica (primera aproximacion) de la funcion es:\",integralmuyaproximada)\n",
        "#print(\"El valor de la integral numerica exacta de la funcion es:\",integralexacta)\n",
        "\n",
        "anchodedivision=(tiempo_final-tiempo_inicial)/segmentos\n",
        "X=np.random.uniform(low=tiempo_inicial,high=tiempo_final, size=segmentos)\n",
        "Y=f(amplitud,periodo,X)\n",
        "Imc=(tiempo_final-tiempo_inicial)*np.sum(Y)/segmentos\n",
        "\n",
        "print(Imc)\n",
        "\n",
        "\n",
        "\n",
        "\n",
        "print(sum)"
      ],
      "execution_count": 9,
      "outputs": [
        {
          "name": "stdout",
          "output_type": "stream",
          "text": [
            "¿Cuál es la amplitud del oscilador?\n",
            "5\n",
            "¿Cuál es el periodo del oscilador en segundos?\n",
            "2\n",
            "¿Desde que punto quieres calcular la integral?\n",
            "0\n",
            "¿Hasta que punto quieres calcular la integral?\n",
            "1\n",
            "¿Cuántos segmentos quieres usar?\n",
            "30\n"
          ]
        },
        {
          "output_type": "error",
          "ename": "TypeError",
          "evalue": "ignored",
          "traceback": [
            "\u001b[0;31m---------------------------------------------------------------------------\u001b[0m",
            "\u001b[0;31mTypeError\u001b[0m                                 Traceback (most recent call last)",
            "\u001b[0;32m<ipython-input-9-994ab9d69375>\u001b[0m in \u001b[0;36m<module>\u001b[0;34m()\u001b[0m\n\u001b[1;32m     44\u001b[0m \u001b[0;34m\u001b[0m\u001b[0m\n\u001b[1;32m     45\u001b[0m \u001b[0manchodedivision\u001b[0m\u001b[0;34m=\u001b[0m\u001b[0;34m(\u001b[0m\u001b[0mtiempo_final\u001b[0m\u001b[0;34m-\u001b[0m\u001b[0mtiempo_inicial\u001b[0m\u001b[0;34m)\u001b[0m\u001b[0;34m/\u001b[0m\u001b[0msegmentos\u001b[0m\u001b[0;34m\u001b[0m\u001b[0;34m\u001b[0m\u001b[0m\n\u001b[0;32m---> 46\u001b[0;31m \u001b[0mX\u001b[0m\u001b[0;34m=\u001b[0m\u001b[0mnp\u001b[0m\u001b[0;34m.\u001b[0m\u001b[0mrandom\u001b[0m\u001b[0;34m.\u001b[0m\u001b[0muniform\u001b[0m\u001b[0;34m(\u001b[0m\u001b[0mlow\u001b[0m\u001b[0;34m=\u001b[0m\u001b[0mtiempo_inicial\u001b[0m\u001b[0;34m,\u001b[0m\u001b[0mhigh\u001b[0m\u001b[0;34m=\u001b[0m\u001b[0mtiempo_final\u001b[0m\u001b[0;34m,\u001b[0m \u001b[0msize\u001b[0m\u001b[0;34m=\u001b[0m\u001b[0msegmentos\u001b[0m\u001b[0;34m)\u001b[0m\u001b[0;34m\u001b[0m\u001b[0;34m\u001b[0m\u001b[0m\n\u001b[0m\u001b[1;32m     47\u001b[0m \u001b[0mY\u001b[0m\u001b[0;34m=\u001b[0m\u001b[0mf\u001b[0m\u001b[0;34m(\u001b[0m\u001b[0mamplitud\u001b[0m\u001b[0;34m,\u001b[0m\u001b[0mperiodo\u001b[0m\u001b[0;34m,\u001b[0m\u001b[0mX\u001b[0m\u001b[0;34m)\u001b[0m\u001b[0;34m\u001b[0m\u001b[0;34m\u001b[0m\u001b[0m\n\u001b[1;32m     48\u001b[0m \u001b[0mImc\u001b[0m\u001b[0;34m=\u001b[0m\u001b[0;34m(\u001b[0m\u001b[0mtiempo_final\u001b[0m\u001b[0;34m-\u001b[0m\u001b[0mtiempo_inicial\u001b[0m\u001b[0;34m)\u001b[0m\u001b[0;34m*\u001b[0m\u001b[0mnp\u001b[0m\u001b[0;34m.\u001b[0m\u001b[0msum\u001b[0m\u001b[0;34m(\u001b[0m\u001b[0mY\u001b[0m\u001b[0;34m)\u001b[0m\u001b[0;34m/\u001b[0m\u001b[0msegmentos\u001b[0m\u001b[0;34m\u001b[0m\u001b[0;34m\u001b[0m\u001b[0m\n",
            "\u001b[0;32mmtrand.pyx\u001b[0m in \u001b[0;36mnumpy.random.mtrand.RandomState.uniform\u001b[0;34m()\u001b[0m\n",
            "\u001b[0;32m_common.pyx\u001b[0m in \u001b[0;36mnumpy.random._common.cont\u001b[0;34m()\u001b[0m\n",
            "\u001b[0;31mTypeError\u001b[0m: 'float' object cannot be interpreted as an integer"
          ]
        }
      ]
    }
  ]
}