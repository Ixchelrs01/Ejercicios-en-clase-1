{
  "nbformat": 4,
  "nbformat_minor": 0,
  "metadata": {
    "colab": {
      "name": "Histogramas.ipynb",
      "provenance": [],
      "mount_file_id": "1ZlZNzQgfnsLF18YjbF_w7oyQAEpAUhQg",
      "authorship_tag": "ABX9TyM3lL1GA5WxLcIkfn73yBJq",
      "include_colab_link": true
    },
    "kernelspec": {
      "name": "python3",
      "display_name": "Python 3"
    },
    "language_info": {
      "name": "python"
    }
  },
  "cells": [
    {
      "cell_type": "markdown",
      "metadata": {
        "id": "view-in-github",
        "colab_type": "text"
      },
      "source": [
        "<a href=\"https://colab.research.google.com/github/Ixchelrs01/Ejercicios-en-clase-1/blob/main/Histogramas.ipynb\" target=\"_parent\"><img src=\"https://colab.research.google.com/assets/colab-badge.svg\" alt=\"Open In Colab\"/></a>"
      ]
    },
    {
      "cell_type": "code",
      "metadata": {
        "colab": {
          "base_uri": "https://localhost:8080/",
          "height": 268
        },
        "id": "Avw15boL2SiF",
        "outputId": "460e02df-c0d0-4e6f-b2bc-761ac158432b"
      },
      "source": [
        "import matplotlib.pyplot as plt\n",
        "import numpy as np\n",
        "import math\n",
        "\n",
        "\n",
        "def fx(x):\n",
        "  return ((x**5)*np.exp(-1))\n",
        "\n",
        "\n",
        "def fxunNumero(x):\n",
        "  if x>=0:\n",
        "    return ((x**5)*math.exp(-1))\n",
        "  else:\n",
        "    return 0\n",
        "\n",
        "def fxVectorEscribir(x):\n",
        "  fxvector=[]\n",
        "\n",
        "  valoresdelafuncion= open(\"/content/drive/MyDrive/FisicaComputacional/Histogramas/clase221121/valoresdelafuncion.csv\",\"w\")\n",
        "\n",
        "\n",
        "  for i in np.nditer(x):\n",
        "    fxvector.append(fxunNumero(i))\n",
        "    linea = str(i)+\",\"+ str(fxunNumero(i))+\"\\n\"\n",
        "    valoresdelafuncion.write(linea)\n",
        "\n",
        "  valoresdelafuncion.close()\n",
        "\n",
        "  return fxvector\n",
        "\n",
        "xintervalo= np.arange(0.0,5.1,0.1)\n",
        "fxVectorEscribir(xintervalo)\n",
        "plt.plot(xintervalo, fx(xintervalo))\n",
        "plt.show()\n",
        "\n"
      ],
      "execution_count": 17,
      "outputs": [
        {
          "output_type": "display_data",
          "data": {
            "image/png": "[encoded data removed]",
            "text/plain": [
              "<Figure size 432x288 with 1 Axes>"
            ]
          },
          "metadata": {
            "needs_background": "light"
          }
        }
      ]
    },
    {
      "cell_type": "markdown",
      "metadata": {
        "id": "cYT9y7Yee0We"
      },
      "source": [
        ""
      ]
    },
    {
      "cell_type": "code",
      "metadata": {
        "colab": {
          "base_uri": "https://localhost:8080/",
          "height": 268
        },
        "id": "t7raSn8Ge29g",
        "outputId": "31b8b9be-b5b3-4ea4-c42b-ecb048b43b78"
      },
      "source": [
        "import matplotlib.pyplot as plt\n",
        "\n",
        "archivo = open(\"/content/drive/MyDrive/FisicaComputacional/Histogramas/clase221121/valoresdelafuncion.csv\",\"r\")\n",
        "lineas= archivo.readlines()\n",
        "\n",
        "\n",
        "xvalues=[]\n",
        "fxvalues=[]\n",
        "\n",
        "for x in lineas:\n",
        "  xvalues.append(float(x.split(\",\")[0]))\n",
        "  fxvalues.append(float(x.split(\",\")[1]))\n",
        "archivo.close()\n",
        "\n",
        "plt.plot(xvalues,fxvalues)\n",
        "plt.show()\n"
      ],
      "execution_count": 14,
      "outputs": [
        {
          "output_type": "display_data",
          "data": {
            "image/png": "[encoded data removed]",
            "text/plain": [
              "<Figure size 432x288 with 1 Axes>"
            ]
          },
          "metadata": {
            "needs_background": "light"
          }
        }
      ]
    },
    {
      "cell_type": "markdown",
      "metadata": {
        "id": "im6LJXX-lC_u"
      },
      "source": [
        ""
      ]
    },
    {
      "cell_type": "code",
      "metadata": {
        "id": "VGT_gBXblD4F"
      },
      "source": [
        "import math\n",
        "\n",
        "def mifuncio(y):\n",
        "  if y>=0:\n",
        "    return ((y**5)*math.exp(-y))\n",
        "  else:\n",
        "    return 0\n",
        "\n",
        "archivoentrada=open(\"/content/drive/MyDrive/FisicaComputacional/Histogramas/clase221121/valoresdelafuncion.csv\",\"r\")\n",
        "archivosalida= open(\"/content/drive/MyDrive/FisicaComputacional/Histogramas/clase221121/archivodesalida.csv\",\"w\")\n",
        "\n",
        "for line in archivoentrada:\n",
        "  par= line.split(\",\")\n",
        "  x= float(par[0])\n",
        "  y= float(par[1])\n",
        "  fy= mifuncio(y)\n",
        "  lineaparaescribir= str(x)+\", \"+ str(fy)+\"\\n\"\n",
        "  archivosalida.write(lineaparaescribir)\n",
        "\n",
        "archivoentrada.close()\n",
        "archivosalida.close()\n",
        "\n",
        "\n",
        "\n",
        "\n"
      ],
      "execution_count": 20,
      "outputs": []
    }
  ]
}