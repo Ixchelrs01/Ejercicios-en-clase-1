{
  "nbformat": 4,
  "nbformat_minor": 0,
  "metadata": {
    "colab": {
      "name": "Untitled15.ipynb",
      "provenance": [],
      "authorship_tag": "ABX9TyOw/RIwBzRPKss/rWc0vvVQ",
      "include_colab_link": true
    },
    "kernelspec": {
      "name": "python3",
      "display_name": "Python 3"
    },
    "language_info": {
      "name": "python"
    }
  },
  "cells": [
    {
      "cell_type": "markdown",
      "metadata": {
        "id": "view-in-github",
        "colab_type": "text"
      },
      "source": [
        "<a href=\"https://colab.research.google.com/github/Ixchelrs01/01_04_EjercicioAngulo/blob/main/integralporlegendre.ipynb\" target=\"_parent\"><img src=\"https://colab.research.google.com/assets/colab-badge.svg\" alt=\"Open In Colab\"/></a>"
      ]
    },
    {
      "cell_type": "code",
      "metadata": {
        "colab": {
          "base_uri": "https://localhost:8080/"
        },
        "id": "GqPiMFMMSToF",
        "outputId": "ba743de8-c267-4bd6-844b-c97ed22c7e26"
      },
      "source": [
        "import numpy as np\n",
        "\n",
        "def function(x):\n",
        "  return 2*x\n",
        "\n",
        "def integral(n,liminf,limsup):\n",
        "    xi, weights = np.polynomial.legendre.leggauss(n)\n",
        "    numericalintegral=0\n",
        "    for i in range(0,n):\n",
        "        numericalintegral += weights[i]*function((limsup-liminf)/2*xi[i]+(limsup-liminf)/2)\n",
        "    return ((limsup-liminf)/2)*numericalintegral\n",
        "\n",
        "#grado=3    \n",
        "#print(integral(grado,0, 5.0))\n",
        "\n",
        "print(\"La función a integrar es: 2x\")\n",
        "print(\"¿Desde que punto quieres calcular la integral?\")\n",
        "punto_inicial=float(input(\"\"))\n",
        "print(\"¿Hasta que punto quieres calcular la integral?\")\n",
        "punto_final=float(input(\"\"))\n",
        "print(\"¿Cuál es el grado del polinomio con el que quieres trabajar?\")\n",
        "grd=float(input(\"\"))\n",
        "grd=grado\n",
        "\n",
        "print(\"El valor numerico de tu integral es:\", integral(grado,punto_inicial,punto_final))\n"
      ],
      "execution_count": 7,
      "outputs": [
        {
          "output_type": "stream",
          "name": "stdout",
          "text": [
            "La función a integrar es: 2x\n",
            "¿Desde que punto quieres calcular la integral?\n",
            "0\n",
            "¿Hasta que punto quieres calcular la integral?\n",
            "5\n",
            "¿Cuál es el grado del polinomio con el que quieres trabajar?\n",
            "2\n",
            "El valor numerico de tu integral es: 25.0\n"
          ]
        }
      ]
    }
  ]
}