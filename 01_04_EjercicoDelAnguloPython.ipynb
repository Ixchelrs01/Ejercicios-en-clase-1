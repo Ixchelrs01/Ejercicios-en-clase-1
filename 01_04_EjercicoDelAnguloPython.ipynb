{
  "nbformat": 4,
  "nbformat_minor": 0,
  "metadata": {
    "colab": {
      "name": "01_04_EjercicoDelAnguloPython.ipynb",
      "provenance": [],
      "authorship_tag": "ABX9TyMG9gluRa4HAxXKIynNpolq",
      "include_colab_link": true
    },
    "kernelspec": {
      "name": "python3",
      "display_name": "Python 3"
    },
    "language_info": {
      "name": "python"
    }
  },
  "cells": [
    {
      "cell_type": "markdown",
      "metadata": {
        "id": "view-in-github",
        "colab_type": "text"
      },
      "source": [
        "<a href=\"https://colab.research.google.com/github/ProgramasParaFisicaComputacional/01_04_EjercicioAngulo/blob/main/01_04_EjercicoDelAnguloPython.ipynb\" target=\"_parent\"><img src=\"https://colab.research.google.com/assets/colab-badge.svg\" alt=\"Open In Colab\"/></a>"
      ]
    },
    {
      "cell_type": "markdown",
      "metadata": {
        "id": "gz0NGooR2NlF"
      },
      "source": [
        "Diseñe el diagrama de flujo y tradúzcalo a lenguaje python para el siguiente problema: \n",
        "Sea a un angulo, dado en grados. Escriba el diagrama y las líneas en python que hallen: \n",
        "(a)  (b)  \n",
        "\n",
        "*   el numero de vueltas completas que da,\n",
        "*   el ángulo entre 0 y 359 al que\n",
        "*   el número del cuadrante en que se encuentra (numerados estos en sentido inverso al de las agujas del reloj), \n",
        "*   el ángulo en radianes al que equivale, \n",
        "*   su tangente."
      ]
    }
  ]
}